{
 "cells": [
  {
   "cell_type": "markdown",
   "id": "54647a27-bd05-4cfc-bd6f-28f846342531",
   "metadata": {
    "deletable": false,
    "editable": false,
    "tags": []
   },
   "source": [
    "# Introduksjon til Jupyter\n",
    "\n",
    "Hei, og velkommen til Jupyter, en annen måte å skrive kode på! Jupyter er et system som lar deg lage dokumenter som inneholder både tekst og programkode på en gang. Det fine her er at du kan kjøre programkoden inne i samme dokumentet som oppgaveteksten, og se resultatet umiddelbart. I denne oppgaven skal vi lære om hvordan man skriver et program i Jupyter, og få en smakebit på noen grunnleggende prinsipp i Python.\n",
    "\n",
    "## Kodeceller\n",
    "\n",
    "\n",
    "\n",
    "Noe av det første vi må lære oss er å kjøre en kodecelle. Dersom du trykker en plass på programkoden nedenfor for å velge cellen, kan hele cellen kjøres ved å trykke på $\\blacktriangleright$-knappen oppe i verktøylinjen, eller med hurtigtastkombinasjonen `ctrl + enter` (PC) / `cmd + enter` (Mac). "
   ]
  },
  {
   "cell_type": "markdown",
   "id": "66b8fd78-721f-4ad4-94b7-af7afe62204f",
   "metadata": {
    "deletable": false,
    "editable": false,
    "tags": []
   },
   "source": [
    "En kodecelle vil altså alltid vise resultatet fra den aller siste linjen i kodecellen som et \"Output\" i dokumentet. Dette kan være nyttig dersom man bruker jupyter litt som en kalkulator, da vi kan skrive koden for en matematisk utregning og få resultatet med en gang ved å kjøre cellen.\n",
    "\n",
    "### a) Enkel utregning i jupyter\n",
    "Bruk kodecellen nedenfor til å utføre addisjonen `5 + 10`.\n",
    "\n",
    "*P.S. symbolet `+` betyr addisjon i Python* "
   ]
  },
  {
   "cell_type": "code",
   "execution_count": 9,
   "id": "76427e3b-eefb-4857-91ac-c2b92ae1d05b",
   "metadata": {
    "deletable": false,
    "nbgrader": {
     "cell_type": "code",
     "checksum": "5cf2c57200e370ea208dba38af40c48b",
     "grade": false,
     "grade_id": "cell-4529e29b37b44b44",
     "locked": false,
     "schema_version": 3,
     "solution": true,
     "task": false
    }
   },
   "outputs": [
    {
     "name": "stdout",
     "output_type": "stream",
     "text": [
      "15\n"
     ]
    }
   ],
   "source": [
    "# SKRIV DIN KODE HER:\n",
    "\n",
    "print(5+10)"
   ]
  },
  {
   "cell_type": "markdown",
   "id": "72feb20f-92df-4cf5-b55b-b85ed81269ef",
   "metadata": {
    "deletable": true,
    "editable": true,
    "tags": []
   },
   "source": [
    "## Utskrift fra program\n",
    "\n",
    "Ofte er det ønskelig at programmet skriver ut mer enn bare resultatet fra siste kodelinje i cellen. Det kan for eksempel være ønskelig å tilføye forklarende tekst som forteller hva en tallverdi representerer. I tillegg er det svært nyttig å kunne skrive ut meldinger underveis i programmet, og ikke bare på slutten. \n",
    "\n",
    "Til dette formålet har python en funkson som heter `print` som vi kan bruke. Det gjøres ved å skrive nøkkelordet *print*, og deretter omslutte ønsket utskrift med paranteser. Dersom vi ønsker å skrive ut tekst, gjøres dette ved å omslutte teksten med hermetgn `\"`, eller enkelt apostrof `'`. Når vi gjør dette lager vi det som kalles en ***streng***. I tillegg er det mulig å kombinere utskrift av tall/utregninger og forklarende tekst ved å lage en såkalt `f-string` som forklart under.\n",
    "\n",
    "Nedenfor ser du en rekke eksempel med bruk av `print()`. Kjør cellen og studer hva som blir skrevet ut.\n",
    "\n"
   ]
  },
  {
   "cell_type": "code",
   "execution_count": 6,
   "id": "c9a1f276",
   "metadata": {
    "tags": []
   },
   "outputs": [
    {
     "name": "stdout",
     "output_type": "stream",
     "text": [
      "Vi ønsker å regne ut 6*2\n",
      "12\n",
      "Hva med litt forklarende tekst?\n",
      "6 ganger 2 er lik  12\n"
     ]
    }
   ],
   "source": [
    "print(\"Vi ønsker å regne ut 6*2\")\n",
    "print(6 * 2)\n",
    "print(\"Hva med litt forklarende tekst?\")\n",
    "print(f\"6 ganger 2 er lik  {6*2}\")"
   ]
  },
  {
   "cell_type": "markdown",
   "id": "9b0d8863-e9ed-4248-9892-53eca70fcebc",
   "metadata": {
    "deletable": false,
    "editable": false,
    "tags": []
   },
   "source": [
    "## Om f-strings\n",
    "Som man kan se i den siste linjen i kodecellen over så starter teksten med en `f` før hermetegnene `\"` i den siste print-setningen. Dette er en spesiell måte å lage en tekststreng på, som lar oss enkelt inkludere resultatet fra regneoperasjoner eller variabler (som vi skal lære om i neste oppgave) i teksten ved å omslutte med krøllparantes `{}`. Merk at når teksten skrives ut, er det *resultatet* av regneoperasjonen som skrives ut og ikke `6*2`."
   ]
  },
  {
   "cell_type": "markdown",
   "id": "be1f2913",
   "metadata": {
    "deletable": false,
    "editable": false,
    "tags": []
   },
   "source": [
    "### b) Bruk av `print()`\n",
    "\n",
    "Bruk `print()` til å skrive ut resultate av regneoperasjonen $3\\cdot 10 - 17$. Pass på å inkludere forklarende tekst slik at utskriften blir noe som f.eks. `3 ganger 10 minus 17 er lik ...`.\n",
    "\n",
    "*P.S. symbolene `*` og `-` betyr henholdsvis multiplikasjon og subtraksjon i Python.*"
   ]
  },
  {
   "cell_type": "code",
   "execution_count": null,
   "id": "70b21d0e-ec92-4d82-9734-a177aae2127f",
   "metadata": {
    "deletable": false,
    "nbgrader": {
     "cell_type": "code",
     "checksum": "e081ae9ffedeac3ac642be69da9fc7a1",
     "grade": false,
     "grade_id": "cell-dadac0eb95a03184",
     "locked": true,
     "schema_version": 3,
     "solution": true,
     "task": false
    }
   },
   "outputs": [
    {
     "name": "stdout",
     "output_type": "stream",
     "text": [
      "her er svaret 3*10-17 13\n",
      "13\n"
     ]
    }
   ],
   "source": [
    "# SKRIV DIN KODE HER:\n",
    "print(\"her er svaret 3*10-17\", 3*10-17)"
   ]
  },
  {
   "cell_type": "markdown",
   "id": "3e6def20-8549-4955-86fe-bf59dee6c3a7",
   "metadata": {
    "deletable": false,
    "editable": false,
    "tags": []
   },
   "source": [
    "## Kommentarer\n",
    "\n",
    "Kommentarer er tekst som kan tilføyes programkode som ikke vil kjøres som programkode. Kommentarer er en essensiell del av programmering, da de kan brukes til å gjøre programkoden mer forståelig for både deg selv og andre. I tillegg kan det hende man vil midlertidig fjerne noen kodelinjer fra et program, men ha muligheten til å sette de tilbake senere. Da er det nyttig å kommentere de vekk istedenfor å slette de fullstendig. \n",
    "\n",
    "En kommentar skrives ved hjelp av symbolet `#`, som du sikkert allerede har sett i de to siste oppgavene med linjen `# Skriv din kode her:`. Alt som blir skrevet på en linje som kommer til vensre for en `#`, vil farges blått og regnes som en kommentar. Dette vil altså ignoreres av python dersom du trykker \"run\" på cellen.\n",
    "\n",
    "```Python\n",
    "# Dette er en kommentar\n",
    "print(\"Dette er ikke en kommentar\")\n",
    "```"
   ]
  },
  {
   "cell_type": "markdown",
   "id": "db8fb7c0-23e8-4e6d-91a1-ba0c464a3e95",
   "metadata": {
    "deletable": false,
    "editable": false,
    "tags": []
   },
   "source": [
    "### c) Kodekommentarer\n",
    "\n",
    "Legg til en linje med kommentar i kodecellen nedenfor med teksten \"Kommentarer er kult\""
   ]
  },
  {
   "cell_type": "code",
   "execution_count": null,
   "id": "2ea7919d",
   "metadata": {
    "deletable": false,
    "nbgrader": {
     "cell_type": "code",
     "checksum": "f197b843f05215cb85ada417bc2e7895",
     "grade": false,
     "grade_id": "cell-b350bdb0969a2758",
     "locked": false,
     "schema_version": 3,
     "solution": true,
     "task": false
    }
   },
   "outputs": [],
   "source": [
    "# SKRIV DIN KODE HER:\n",
    "# Kommentarer er kult"
   ]
  },
  {
   "cell_type": "markdown",
   "id": "b0db2d6d",
   "metadata": {
    "deletable": false,
    "editable": false,
    "tags": []
   },
   "source": [
    "## Til info: tekstceller\n",
    "\n",
    "Teksten i tekstcellene slik som denne er skrevet med noe som heter *markdown*, som er et enkelt språk for tekstredigering. Med markdown kan man lage tabeller og punktlister, men også gjøre mer avanserte tign som å skrive matematiske formler og sette inn bilder.\n",
    "\n",
    "Dersom du dobbeltklikker på en tekstcelle vil du se kildeteksten som genererer den redigierte tekstcellen. For å få tilbake den lesbare utgaven, er det bare å velge \"run cell\" med tekstcellen markert. "
   ]
  }
 ],
 "metadata": {
  "kernelspec": {
   "display_name": "Python 3",
   "language": "python",
   "name": "python3"
  },
  "language_info": {
   "codemirror_mode": {
    "name": "ipython",
    "version": 3
   },
   "file_extension": ".py",
   "mimetype": "text/x-python",
   "name": "python",
   "nbconvert_exporter": "python",
   "pygments_lexer": "ipython3",
   "version": "3.13.3"
  },
  "scenes_data": {
   "active_scene": "Default Scene",
   "init_scene": "",
   "scenes": [
    "Default Scene"
   ]
  }
 },
 "nbformat": 4,
 "nbformat_minor": 5
}
