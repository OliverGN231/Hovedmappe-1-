{
 "cells": [
  {
   "cell_type": "markdown",
   "metadata": {
    "deletable": false,
    "editable": false,
    "run_control": {
     "frozen": true
    },
    "slideshow": {
     "slide_type": ""
    },
    "tags": []
   },
   "source": [
    "# Logiske operatorer og logiske uttrykk\n",
    "\n",
    "**Læringsmål:**\n",
    "- Logiske uttrykk og boolske operatorer\n",
    "- Betingelser\n",
    "- Kodeforståelse\n",
    "\n",
    "I denne oppgaven skal vi lære om logiske uttrykk og hvordan de kan settes sammen med `and`, `or` og `not`.\n",
    "\n",
    "**Oversikt:**\n",
    "* a) Quiz kodeforståelse\n",
    "* b) Rett opp feil i betingelse\n",
    "* c) Sammensatte betingelser"
   ]
  },
  {
   "cell_type": "markdown",
   "metadata": {
    "deletable": false,
    "editable": false,
    "heading_collapsed": true,
    "run_control": {
     "frozen": true
    }
   },
   "source": [
    "## Generelt om logiske operatorer og logiske uttrykk\n",
    "\n",
    "Dette er ikke en del av oppgaven, men kan være lurt å lese før du begynner."
   ]
  },
  {
   "cell_type": "markdown",
   "metadata": {
    "deletable": false,
    "editable": false,
    "hidden": true,
    "run_control": {
     "frozen": true
    }
   },
   "source": [
    "I de tidligere oppgavene i denne øvingen var alle betingelsene enkle betingelser hvor vi typisk sammenlignet to verdier. De vanlige operatorene vi har for å sammenligne verdier er:\n",
    "\n",
    "- `==` (som betyr \"er lik\", merk at her er to likhetstegn nødvendig for å skille fra tilordningsoperatoren)\n",
    "- `!=` (som betyr \"ulik\", altså det motsatte av ==)\n",
    "- `>` , `<` , `>=` , `<=` (som betyr henholdsvis større, mindre, større eller lik, og mindre eller lik)\n",
    "\n",
    "Ofte kan beslutninger være avhengig av verdien til **flere** variable, eller for den del flere betingelser for samme variabel.\n",
    "\n",
    "Ved hjelp av logiske operatorer kan vi teste for flere betingelser i samme if-setning. Eksemplet nedenfor viser et lite program som leser inn temperatur og vind og så skal skrive et varsel om ekstremvær hvis det er kaldere enn -30, varmere enn 40, eller mer vind enn 20 m/s.\n",
    "\n",
    "Her viser vi dette løst på to alternative måter, først med enkle betingelser og en if-elif-setning (linje 5-10), deretter med en enkelt if-setning med en sammensatt betingelse med `or` mellom (linje 13-14). **OBS:** Trykk på View -> Toggle Line Numbers i menyen på toppen for å se linjenummer.\n",
    "\n",
    "Når det står `or` mellom betingelser er det nok at en av dem er sann for at hele uttrykket skal bli sant (men også sant om begge er sanne); den sammensatte varianten vil dermed gi samme resultat som if-elif-setningen bare at vi med vilje har droppet utropstegn i siste print så du lett skal se hva som er hva."
   ]
  },
  {
   "cell_type": "code",
   "execution_count": 15,
   "metadata": {
    "deletable": false,
    "execution": {
     "iopub.execute_input": "2024-08-08T17:42:12.062500Z",
     "iopub.status.busy": "2024-08-08T17:42:12.060807Z",
     "iopub.status.idle": "2024-08-08T17:42:12.091265Z",
     "shell.execute_reply": "2024-08-08T17:42:12.089430Z"
    },
    "hidden": true
   },
   "outputs": [
    {
     "data": {
      "text/plain": [
       "'VARSEL: Ekstremvær!'"
      ]
     },
     "execution_count": 15,
     "metadata": {},
     "output_type": "execute_result"
    }
   ],
   "source": [
    "########## Eksempel 1 ##########\n",
    "\n",
    "# VARIANT MED if-elif\n",
    "def ekstremvær_if_elif(temp, vind):\n",
    "    if temp < -30:\n",
    "        return \"VARSEL: Ekstremvær!\"\n",
    "    elif temp > 40:\n",
    "        return \"VARSEL: Ekstremvær!\"\n",
    "    elif vind > 20:\n",
    "        return \"VARSEL: Ekstremvær!\"\n",
    "    \n",
    "ekstremvær_if_elif(50, 2)"
   ]
  },
  {
   "cell_type": "code",
   "execution_count": 16,
   "metadata": {
    "deletable": false,
    "execution": {
     "iopub.execute_input": "2024-08-08T17:42:12.099257Z",
     "iopub.status.busy": "2024-08-08T17:42:12.098533Z",
     "iopub.status.idle": "2024-08-08T17:42:12.112841Z",
     "shell.execute_reply": "2024-08-08T17:42:12.110785Z"
    }
   },
   "outputs": [
    {
     "data": {
      "text/plain": [
       "'VARSEL: Ekstremvær'"
      ]
     },
     "execution_count": 16,
     "metadata": {},
     "output_type": "execute_result"
    }
   ],
   "source": [
    "########## Eksempel 2 ##########\n",
    "\n",
    "# VARIANT MED SAMMENSATT BETINGELSE\n",
    "def ekstremvær_sammensatt(temp, vind):\n",
    "    if temp < -30 or temp > 40 or vind > 20:\n",
    "        return \"VARSEL: Ekstremvær\"\n",
    "\n",
    "ekstremvær_sammensatt(10, 40)"
   ]
  },
  {
   "cell_type": "markdown",
   "metadata": {
    "deletable": false,
    "editable": false,
    "hidden": true,
    "run_control": {
     "frozen": true
    }
   },
   "source": [
    "Merk at varianten med sammensatt betingelse kun funker her fordi det er samme tekst som skal skrives i alle de tre tilfellene. Hvis utskriften skulle ha vært mer spesifikk (f.eks. ekstremt kaldt / ekstremt varmt / ...), måtte vi ha brukt if-elif...\n",
    "\n",
    "Tilsvarende kan vi i noen tilfeller unngå nøstede if-setninger (linje 5-7 i eksemplet under) ved å sette sammen betingelser med `and` (linje 10-11 under). Når det er `and` mellom to betingelser, må **begge** være sanne for at hele uttrykket skal bli sant."
   ]
  },
  {
   "cell_type": "code",
   "execution_count": 17,
   "metadata": {
    "ExecuteTime": {
     "end_time": "2019-07-02T06:42:19.110725Z",
     "start_time": "2019-07-02T06:42:10.950922Z"
    },
    "deletable": false,
    "execution": {
     "iopub.execute_input": "2024-08-08T17:42:12.122047Z",
     "iopub.status.busy": "2024-08-08T17:42:12.120537Z",
     "iopub.status.idle": "2024-08-08T17:42:12.134867Z",
     "shell.execute_reply": "2024-08-08T17:42:12.132887Z"
    },
    "hidden": true
   },
   "outputs": [
    {
     "name": "stdout",
     "output_type": "stream",
     "text": [
      "Regn i mm: 0.3\n",
      "Vind i sekundmeter: 6.0\n",
      "Anbefaler paraply.\n"
     ]
    }
   ],
   "source": [
    "########## Eksempel 3 ##########\n",
    "\n",
    "def paraply(regn, vind):\n",
    "    print(f\"Regn i mm: {regn}\")\n",
    "    print(f\"Vind i sekundmeter: {vind}\")\n",
    "    \n",
    "    # VARIANT MED NØSTEDE if-setninger\n",
    "    if regn > 0.2:\n",
    "        if vind < 7.0:\n",
    "            return \"Anbefaler paraply.\"\n",
    "    return \"Anbefaler ikke paraply\"\n",
    "        \n",
    "\n",
    "anbefaling = paraply(0.3, 6.0)\n",
    "print(anbefaling)"
   ]
  },
  {
   "cell_type": "code",
   "execution_count": 18,
   "metadata": {
    "deletable": false,
    "execution": {
     "iopub.execute_input": "2024-08-08T17:42:12.142359Z",
     "iopub.status.busy": "2024-08-08T17:42:12.141245Z",
     "iopub.status.idle": "2024-08-08T17:42:12.153487Z",
     "shell.execute_reply": "2024-08-08T17:42:12.151070Z"
    }
   },
   "outputs": [
    {
     "name": "stdout",
     "output_type": "stream",
     "text": [
      "Regn i mm: 0.3\n",
      "Vind i sekundmeter: 6.0\n",
      "Anbefaler paraply.\n"
     ]
    }
   ],
   "source": [
    "########## Eksempel 4 ##########\n",
    "\n",
    "def paraply_sammensatt(regn, vind):\n",
    "    print(f\"Regn i mm: {regn}\")\n",
    "    print(f\"Vind i sekundmeter: {vind}\")\n",
    "    \n",
    "    # VARIANT MED SAMMENSATT BETINGELSE\n",
    "    if regn > 0.2 and vind < 7.0:\n",
    "        return \"Anbefaler paraply.\"\n",
    "    return \"Anbefaler ikke paraply\"\n",
    "\n",
    "anbefaling = paraply_sammensatt(0.3, 6.0)\n",
    "print(anbefaling)"
   ]
  },
  {
   "cell_type": "markdown",
   "metadata": {
    "deletable": false,
    "editable": false,
    "hidden": true,
    "run_control": {
     "frozen": true
    }
   },
   "source": [
    "I begge de foregående eksemplene vil nok de fleste si at variantene med sammensatte betingelser er klart å foretrekke framfor if-elif eller nøstet if. Bruk av sammensatte betingelser gjør koden kortere og enklere å forstå.\n",
    "\n",
    "Det er typisk tre operatorer vi bruker for å sette sammen betingelser: `and`, `or`, `not`\n",
    "\n",
    "Disse virker på følgende måte:\n",
    "\n",
    "- betingelse1 `and` betingelse2 blir True (sant) bare hvis **både** betingelse1 og betingelse2 er True, ellers blir uttrykket False (usant)\n",
    "- betingelse1 `or` betingelse2 blir True (sann) hvis **minst en** av betingelsene er True, ellers False\n",
    "- `not` betingelse1 blir True hvis betingelse1 er False, og False hvis betingelse1 er True\n",
    "- Man kan sette sammen mer komplekse betingelser ved å bruke flere av dem. \n",
    "\n",
    "Presedensregler: `not` har større presedens enn `and`, som har større enn `or`.\n",
    "\n",
    "F.eks. anta at\n",
    "\n",
    "`if regn > 0.2 and vind < 7.0 or solbrentfare > 0.9 and not solkrembeholdning > 0:` er gitt som betingelse for å ta med paraply\n",
    "\n",
    "Ifølge presedensreglene vil `not` evalueres først, deretter `and`, og til slutt `or`. Uttrykket kan dermed ses som to alternative måter for å anbefale paraply (delt av `or` i midten), nemlig:\n",
    "\n",
    "ENTEN at både `regn > 0.2` og `vind < 0.7` er sanne. Det spiller da ingen rolle hvilken verdi vi har for solbrentfare osv. (siden den har `or` foran seg)\n",
    "ELLER at `solbrentfare > 0.9` er sann, samtidig som `solkrembeholdning > 0` er usann (slik at `not solkrembeholdning > 0` vil være sann)\n",
    "I det siste tilfellet er det rimelig å anta at paraply er tenkt å beskytte mot sol, ikke mot regn.\n",
    "\n",
    "Merk at selv om sammensatte betingelser gjorde koden kortere og enklere å forstå i eksemplene over, er ikke dette alltid tilfelle. Hvis man ender med veldig store sammensatte betingelser, vil disse i seg selv være vanskelig å forstå, slik at kanskje noe oppsplitting med if-elif... eller nøsting av if-setninger kunne ha vært bedre.\n",
    "\n",
    "Men se først om det er mulig å skrive betingelsen enklere. Dette gjelder særlig hvis det er mye bruk av `not`. Akkurat som mye bruk av negasjoner i vanlig norsk vil gjøre en tekst vanskelig å forstå, vil mye bruk av `not` gjøre Python-betingelser vanskelige å forstå - og kunne kanskje vært unngått. F.eks.\n",
    "\n",
    "- `not a < 10` kan like gjerne skrives `a >= 10`\n",
    "- `not a == 10` kan like gjerne skrives `a != 10`\n",
    "- `not (c < 0 or c > 255)` kan like gjerne skrives `c >= 0 and c <= 255` eller enda enklere `0 <= c <= 255`.\n",
    "Det fins tilfeller hvor `not` er lurt å bruke, men bruk den med måte, bare når bedre alternativer ikke finnes."
   ]
  },
  {
   "cell_type": "markdown",
   "metadata": {
    "deletable": false,
    "editable": false,
    "run_control": {
     "frozen": true
    },
    "slideshow": {
     "slide_type": ""
    },
    "tags": []
   },
   "source": [
    "## a) Quizspørsmål\n",
    "\n",
    "Hvilken av de følgende logiske uttrykkene vil gi den boolske verdien  True  dersom x=3, y=8 og z=-3?\n",
    "\n",
    "|Alternativ|Svar|\n",
    "|---|---|\n",
    "|1|`not y == 8`|\n",
    "|2|`x == 8 or y == 3`|\n",
    "|3|`-5 < z and 5 > z`\n",
    "|4|`not (x <= 3)`|\n",
    "\n",
    "*Besvar spørsmålet ved å skrive en tallverdi for hvilket alternativ som er korrekt i variabelen `mitt_svar`*."
   ]
  },
  {
   "cell_type": "code",
   "execution_count": null,
   "metadata": {
    "deletable": false,
    "execution": {
     "iopub.execute_input": "2024-08-08T17:42:12.161892Z",
     "iopub.status.busy": "2024-08-08T17:42:12.160820Z",
     "iopub.status.idle": "2024-08-08T17:42:12.171018Z",
     "shell.execute_reply": "2024-08-08T17:42:12.169436Z"
    }
   },
   "outputs": [],
   "source": [
    "mitt_svar = ? # Skriv svaralternativ nr. 1, 2, 3 eller 4 her!"
   ]
  },
  {
   "cell_type": "markdown",
   "metadata": {
    "deletable": false,
    "editable": false,
    "hidden": true,
    "run_control": {
     "frozen": true
    }
   },
   "source": [
    "**Hint:**\n",
    "\n",
    "Om du sliter kan du sjekke ved å skrive et program som gir x, y og z verdiene 3, 8, -3 og bruke `print(<logisk uttrykk>)`.\n",
    "\n",
    "Husk presedensregler: `not` har større presedens enn `and`, som har større enn `or`.  \n",
    "Du kan teste kode her:"
   ]
  },
  {
   "cell_type": "code",
   "execution_count": null,
   "metadata": {
    "deletable": false,
    "hidden": true
   },
   "outputs": [],
   "source": []
  },
  {
   "cell_type": "markdown",
   "metadata": {
    "deletable": false,
    "editable": false
   },
   "source": [
    "## b) Rett opp feil i betingelse"
   ]
  },
  {
   "cell_type": "markdown",
   "metadata": {
    "deletable": false,
    "editable": false
   },
   "source": [
    "En venn av deg er fridykker og trenger hjelp til å overvåke lufttanken sin. Den skal fylles med luft etter å ha blitt brukt. Problemet er at når tanken fylles vil både trykk og temperatur øke, om trykket eller temperaturen blir for stor vil tanken bli ødelagt. Vennen din ønsker derfor en funksjon `isSafe` som sier om tankens trykk/temperatur målinger er under tankens spesifikasjoner. Grenseverdien til både trykk og temperatur er 85 (PSI for trykk, celsius for temperatur). Om en eller begge av målingene er over anbefalt verdi skal porgrammet `returnere` false, og true ellers. For dette burde du bruke *or* operatoren.\n",
    "\n",
    "Eksempelvis\n",
    "```Python\n",
    "Trykk = 10, Temp = 20 => return True\n",
    "Trykk = 70, Temp = 100 => return False\n",
    "```\n",
    "\n",
    "Vennen din, som er veldig ny til programmering, har forsøkt å skrive funksjonen på egen hånd. Dessverre fungerer den ikke helt slik den skal, og returnerer *alltid* `False` uansett hva trykke eller temperaturen er. Klarer du å finne, og rette opp i feilen?"
   ]
  },
  {
   "cell_type": "code",
   "execution_count": 20,
   "metadata": {
    "deletable": false,
    "execution": {
     "iopub.execute_input": "2024-08-08T17:42:13.708598Z",
     "iopub.status.busy": "2024-08-08T17:42:13.708141Z",
     "iopub.status.idle": "2024-08-08T17:42:13.714458Z",
     "shell.execute_reply": "2024-08-08T17:42:13.713061Z"
    }
   },
   "outputs": [],
   "source": [
    "def is_safe(trykk, temp):\n",
    "    limit = 85 # Celcius for temp, PSI for pressure\n",
    "    if trykk or temp >= limit:\n",
    "        return False\n",
    "    else:\n",
    "        return True\n"
   ]
  },
  {
   "cell_type": "markdown",
   "metadata": {
    "deletable": false,
    "editable": false
   },
   "source": [
    "Et eksempel på et funksjonakall er gitt nedenfor. Når vi kaller funksjonen `is_safe` med inngangsverdiene `trykk = 60` og `temp = 30`, så bør funksjonen returnere `True` (noe den ikke gjør nå)\\\n",
    "NB! Husk å kjøre cellen der funksjonen `is_safe` er definert etter at du har endret den."
   ]
  },
  {
   "cell_type": "code",
   "execution_count": 21,
   "metadata": {
    "deletable": false,
    "execution": {
     "iopub.execute_input": "2024-08-08T17:42:13.721606Z",
     "iopub.status.busy": "2024-08-08T17:42:13.721310Z",
     "iopub.status.idle": "2024-08-08T17:42:13.728182Z",
     "shell.execute_reply": "2024-08-08T17:42:13.726973Z"
    }
   },
   "outputs": [
    {
     "name": "stdout",
     "output_type": "stream",
     "text": [
      "is_safe(60, 30) = False\n"
     ]
    }
   ],
   "source": [
    "print(f\"{is_safe(60, 30) = }\")"
   ]
  },
  {
   "cell_type": "markdown",
   "metadata": {
    "deletable": false,
    "editable": false
   },
   "source": [
    "**Hint:**\n",
    "\n",
    "*Hva blir egentlig på de to siden av **or** operatoren?*"
   ]
  },
  {
   "cell_type": "markdown",
   "metadata": {
    "deletable": false,
    "editable": false
   },
   "source": [
    "## c) Sammensatte betingelser"
   ]
  },
  {
   "cell_type": "markdown",
   "metadata": {
    "deletable": false,
    "editable": false
   },
   "source": [
    "Etter at du lagde funksjonen fra forrige leste dykkeren spesifikasjonen til tanken litt nærmere, og fant ut tanken har både en maksverdi og anbefalt verdi. Du blir derfor bedt om du kan lage en ny funksjon, denne gangen som indikerer farenivået. Funksjonen vil ta inn trykket og temperaturen i tanken som parametere og returnere en verdi basert på disse. Funksjonen skal returnere `0` om alt er ok, `1` om en eller begge av verdiene er over anbefalt, og `2` om en eller begge av verdiene er over maks grensen. Disse grenseverdiene er oppgitt nedenfor i tankens spesifikasjoner.\n",
    "\n",
    "<img src=\"../resources/images/datablad_tank.png\"  style=\"width: 600px; margin-left: 10%\" />\n",
    "\n",
    "Eksempel:\n",
    "```\n",
    "trykk = 190, temp = 45\n",
    "return 0\n",
    "\n",
    "trykk = 270, temp = 110\n",
    "return 2\n",
    "\n",
    "```\n",
    "\n",
    "Hint: Det kan være en fordel å jobbe seg nedover i prioritering. Begynn for eksempel med å sjekke om enten trykk eller temp er over maksverdien.\n",
    "\n",
    "For å finne ut x `eller` y bruker vi `or` i python. Eks: `if (trykk >= 300) or (temp >= 100): return 2`"
   ]
  },
  {
   "cell_type": "code",
   "execution_count": null,
   "metadata": {
    "deletable": false,
    "execution": {
     "iopub.execute_input": "2024-08-08T17:42:13.757055Z",
     "iopub.status.busy": "2024-08-08T17:42:13.756169Z",
     "iopub.status.idle": "2024-08-08T17:42:13.762037Z",
     "shell.execute_reply": "2024-08-08T17:42:13.761092Z"
    },
    "nbgrader": {
     "cell_type": "code",
     "checksum": "077dd66f193876cfb0413cd94487cc70",
     "grade": false,
     "grade_id": "cell-1e859349e147b49d",
     "locked": false,
     "schema_version": 3,
     "solution": true,
     "task": false
    }
   },
   "outputs": [],
   "source": [
    "def tank_warning_system(trykk, temp):\n",
    "    # SKRIV DIN KODE HER:\n",
    "    "
   ]
  },
  {
   "cell_type": "markdown",
   "metadata": {
    "deletable": false,
    "editable": false
   },
   "source": [
    "*Nedenfor ser du forslag til tre funksjonskall som tester eksempel-input for de tre ulike utfallene*"
   ]
  },
  {
   "cell_type": "code",
   "execution_count": 23,
   "metadata": {
    "deletable": false,
    "execution": {
     "iopub.execute_input": "2024-08-08T17:42:13.769505Z",
     "iopub.status.busy": "2024-08-08T17:42:13.769024Z",
     "iopub.status.idle": "2024-08-08T17:42:13.775203Z",
     "shell.execute_reply": "2024-08-08T17:42:13.774097Z"
    }
   },
   "outputs": [
    {
     "name": "stdout",
     "output_type": "stream",
     "text": [
      "tank_warning_system(trykk=200, temp=50) = None\n",
      "tank_warning_system(trykk=250, temp=90) = None\n",
      "tank_warning_system(trykk=310, temp=110) = None\n"
     ]
    }
   ],
   "source": [
    "print(f\"{tank_warning_system(trykk=200, temp=50) = }\") # Forventer 0\n",
    "print(f\"{tank_warning_system(trykk=250, temp=90) = }\") # Forventer 1\n",
    "print(f\"{tank_warning_system(trykk=310, temp=110) = }\") # Forventer 2"
   ]
  }
 ],
 "metadata": {
  "kernelspec": {
   "display_name": "Python 3",
   "language": "python",
   "name": "python3"
  },
  "language_info": {
   "codemirror_mode": {
    "name": "ipython",
    "version": 3
   },
   "file_extension": ".py",
   "mimetype": "text/x-python",
   "name": "python",
   "nbconvert_exporter": "python",
   "pygments_lexer": "ipython3",
   "version": "3.13.6"
  },
  "toc": {
   "base_numbering": 1,
   "nav_menu": {},
   "number_sections": false,
   "sideBar": true,
   "skip_h1_title": false,
   "title_cell": "Table of Contents",
   "title_sidebar": "Contents",
   "toc_cell": false,
   "toc_position": {},
   "toc_section_display": true,
   "toc_window_display": false
  }
 },
 "nbformat": 4,
 "nbformat_minor": 4
}
