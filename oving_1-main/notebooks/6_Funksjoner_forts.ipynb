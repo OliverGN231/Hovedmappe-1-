{
 "cells": [
  {
   "cell_type": "markdown",
   "id": "73f538ea-bc22-4ab3-abb2-e009eb472f95",
   "metadata": {},
   "source": [
    "# Funksjoner av flere variabler\n",
    "\n",
    "Akkurat som i matematikk er heller ikke funksjoner i Python nødvendigvis begrenset til mapping av én inngangsverdi til én utgangsverdi. Vi kan for eksempel lage en funksjon $f(x, y)$ som \"mapper\" inngangsverdiene $x$ og $y$ til en utgangsverdi $z$. Dette kan være for eksempel en funksjon som beskriver en overflate der høyden i den tredje dimensjonen $z$ er avhengig av posisjonen på et todimensjonalt koordinatsystem gitt av $x$ og $y$. Figuren nedenfor illustrerer hvordan dette kan se ut for funksjonen $f(x, y) = e^{-x^2-y^2}$ vil se ut i et tredimensjonalt rom.\n",
    "\n",
    "![Figurer/surface_plot.png](../resources/images/surface_plot.png)\n",
    "\n",
    "I figuren ser vi tydelig at høyden til overflaten i $z$-retning er avhengiv av *både* posisjonen langs $x$-aksen *og* $y$-aksen. I Python ville vi skrevet funksjonen $f(x, y)$ på følgende måte:"
   ]
  },
  {
   "cell_type": "code",
   "execution_count": null,
   "id": "a2e75fc5-415c-4e28-8de7-149fcad07f47",
   "metadata": {},
   "outputs": [],
   "source": [
    "import numpy as np\n",
    "def f(x, y):\n",
    "    z = np.exp(-x**2-y**2)\n",
    "    return z\n",
    "# Vi bruker så et funksjonskall for å \"kalle\" på funksjonen f(x,y) og finne ut hva f(1,2) blir.\n",
    "print(f\"f(1,2) = {f(1,2)}\")"
   ]
  },
  {
   "cell_type": "markdown",
   "id": "28de665a-7774-4cb7-8b60-b67e47817038",
   "metadata": {},
   "source": [
    "På samme måte som i [oppgave **5**](./5_Funksjoner.ipynb) kan vi nå bruke variabelnavnet `x` inne i funksjonen for å antyde at verdien til `z` vil være avhengig av inngangsvariabelen `x`. Forskjellen er at her har vi i tillegg enda en inngangsvariabel `y` som også har innvirkning på verdien til `z`, så den inkluderer vi i beregningene i linjen `z = np.exp(-x**2-y**2)` på nøyaktig samme måte.\n",
    "\n",
    "Noe annet som er verdt å påpeke er at inngangsvariablene ikke trenger å hete `x` eller `y`, og funksjnen kan også ha et annet navn enn `f`. De kan i grunn hete hva som helst så lenge det er et gyldig variabelnavn (slik vi gjennomgikk i oppgave 2). Ofte foretrekker programmerere å gi variabler og funksjoner noe lengre og mer beskrivende navn, slik at det ikke like lett skal oppstå tvil om hva funksjonen gjør."
   ]
  },
  {
   "cell_type": "markdown",
   "id": "8591590b-0d22-4c00-86b8-fa2d6354cee8",
   "metadata": {},
   "source": [
    "## a) Funksjon for volum av syllinder\n",
    "\n",
    "Nedenfor skal du lage en funksjon som regner ut volumet til en syllinder. For å finne volumet trenger du både radiusen til grunnflaten, og høyden til syllinderen.\n",
    "$$V(r, h) = \\pi\\cdot  r^{2}\\cdot  h$$\n",
    "\n",
    "Bruk formelen ovenfor og verdien til $\\pi$ i biblioteket `numpy` til å fullføre funksjonen `sylinder_volum` som regner ut volumet (V) fra radiusen (r) og høyden (h) til en sylinder."
   ]
  },
  {
   "cell_type": "code",
   "execution_count": 1,
   "id": "08f7e640-066a-4420-a1d9-ba86409bad2f",
   "metadata": {
    "deletable": false,
    "nbgrader": {
     "cell_type": "code",
     "checksum": "6a33dcc9445e405b92a715358d7d4570",
     "grade": false,
     "grade_id": "cell-bd490163e856dc03",
     "locked": false,
     "schema_version": 3,
     "solution": true,
     "task": false
    }
   },
   "outputs": [
    {
     "data": {
      "text/plain": [
       "2211.681228127214"
      ]
     },
     "execution_count": 1,
     "metadata": {},
     "output_type": "execute_result"
    }
   ],
   "source": [
    "import numpy as np\n",
    "def sylinder_volum(r, h):\n",
    "    # Skriv inn din kode her:\n",
    "    volum = np.pi * r**2 * h  # Volumet av en sylinder\n",
    "    return volum              # Returnerer volumet\n",
    "    \n",
    "\n",
    "sylinder_volum(8, 11)"
   ]
  },
  {
   "cell_type": "markdown",
   "id": "19b71a3d-7d79-431c-9888-92ad6e78fc8a",
   "metadata": {},
   "source": [
    "## b) Funksjon for volum av rør\n",
    "\n",
    "La oss si at en produsent av plastrør vil finne en enkel måte å beregne hvor mye ulike rør veier. Da trenger man å vite hvor mange volumenheter md plast som går med på å lage et rør.\n",
    "\n",
    "Nedenfor skal du lage en ny funksjon kalt \"roerVolum\" som tar inn en ytre radius, indre radius, og høyde. Denne skal regne ut volumet til et hult rør og returnere dette. \n",
    "\n",
    "Når man skal finne volumet av et hult rør kan man ta volumet til hele syllinderformen til røret, og trekke fra den luft syllinderen inni røret.\n",
    "\n",
    "Hint: Man kan kalle funksjoner fra innsiden av andre funksjoner."
   ]
  },
  {
   "cell_type": "code",
   "execution_count": null,
   "id": "f6b7475c-28a1-4a56-972e-654b1d918be3",
   "metadata": {
    "deletable": false,
    "nbgrader": {
     "cell_type": "code",
     "checksum": "6addb42cee1c13e9521625b81c765b36",
     "grade": false,
     "grade_id": "cell-4f277726d29fdf6f",
     "locked": false,
     "schema_version": 3,
     "solution": true,
     "task": false
    }
   },
   "outputs": [
    {
     "data": {
      "text/plain": [
       "-358.14156250923645"
      ]
     },
     "execution_count": 2,
     "metadata": {},
     "output_type": "execute_result"
    }
   ],
   "source": [
    "def roer_volum(rY, rI, h):\n",
    "    # SKRIV DIN KODE HER:\n",
    "    volum_indre = np.pi * rI**2 * h  # Volumet av den indre røret\n",
    "    volum_ytre = np.pi * rY**2 * h # Volumet av den ytre røret\n",
    "    volum = volum_ytre - volum_indre  # Volumet av røret er forskjellen mellom det ytre og indre volumet\n",
    "    return volum  # Returnerer volumet\n",
    "\n",
    "roer_volum(8, 11, 2)    #verdiene her gir ikke mening at indre radius er større enn ytre radius"
   ]
  },
  {
   "cell_type": "markdown",
   "id": "392801d3",
   "metadata": {},
   "source": [
    "TIPS: Unngå bruk av norske tegn (æ, ø, å) i variabelnavn. Bruk gjerne engelske navn eller følgende erstatning: ø = oe, æ = ae, å = aa"
   ]
  },
  {
   "cell_type": "markdown",
   "id": "bf652661-455e-4072-b056-a364f0199f31",
   "metadata": {},
   "source": [
    "## Globale vs lokale variabler\n",
    "\n",
    "Noen ganger vil man jobbe med en verdi som er nyttig i store deler av koden sin. Da kan det være veldig tungvindt å sende den inn i alle funksjonkallene sine. Derfor har man Globale variabler. Disse variablene vil være tilgjengelig for hele programmet, og ikke bare inni funksjoner.\n",
    "\n",
    "Når man bruker variabler vil python først lete etter verdien i ett \"lokalt scope\", og deretter i ett \"globalt scope\". Om man er inni en funksjon vil dette være ett lokalt scope, mens utenfor vil være det globale scopet. Siden python leter først i det lokale scopet, og deretter i det globale scopet kan dette skape forvirringer hvis man har 2 variabler med samme navn i ulike scope. I eksempelkoden nedenfor vil dere kunne prøve dere frem med globale og lokale variabler.\n",
    "\n",
    "Kjør kodecellen under, deretter kan du prøve å kommentere ut \"message = ...\" inni funksjonen. Hva blir printet da?"
   ]
  },
  {
   "cell_type": "code",
   "execution_count": 8,
   "id": "c5e74168-7b7f-4714-b770-1b4899b09ff3",
   "metadata": {},
   "outputs": [
    {
     "name": "stdout",
     "output_type": "stream",
     "text": [
      "Hallo fra det globale skop\n",
      "Hallo fra ett lokalt skop\n",
      "Hallo fra det globale skop\n",
      "Hallo fra ett lokalt skop\n"
     ]
    }
   ],
   "source": [
    "message = \"Hallo fra det globale skop\" # Dette er en global variabel\n",
    "\n",
    "\n",
    "def min_funksjon():\n",
    "    message = \"Hallo fra ett lokalt skop\" # Dette er en lokal variabel\n",
    "    print(message)\n",
    "\n",
    "print(message)\n",
    "min_funksjon()\n",
    "print(message)"
   ]
  },
  {
   "cell_type": "markdown",
   "id": "0cece1ec-a175-4769-b704-13144f916db7",
   "metadata": {},
   "source": [
    "## c) Globale utregning\n",
    "\n",
    "<img src=\"../resources/images/lokale_vs_globale.png\" width=\"40%\" align=\"right\" />\n",
    "\n",
    "Nedenfor skal du lage en funksjon `calculate_force` som tar inn masse og regner ut tyngdekraften. Siden vi regner med at alle kalkulasjoner er for objekter på jorden skal du lage en global variabel for jordens tyngdekraft. Bruk $g=9.81$\n",
    "\n",
    "Funksjonen skal hete \"calculateForce\" og formelen for tyngdekraft er $F=m\\cdot g$"
   ]
  },
  {
   "cell_type": "code",
   "execution_count": null,
   "id": "d5d93df7-4574-44da-8482-9c30bc94d0b1",
   "metadata": {
    "deletable": false,
    "nbgrader": {
     "cell_type": "code",
     "checksum": "d72a039932e53a5a147c93c46353708b",
     "grade": false,
     "grade_id": "cell-f58f02afe70a3607",
     "locked": false,
     "schema_version": 3,
     "solution": true,
     "task": false
    }
   },
   "outputs": [],
   "source": [
    "# SKRIV DIN KODE HER:\n"
   ]
  },
  {
   "cell_type": "markdown",
   "id": "dad0bfa7-95e2-43c3-8af1-86406450632c",
   "metadata": {},
   "source": [
    "## d) Klassisk fysikk IV (Valgfri)\n",
    "\n",
    "<img src=\"../resources/images/Skier_forces.jpg\"  style=\"width: 300px; margin-left: 10%\" />\n",
    "\n",
    "Vi tar utgangspunkt i skiløperen i [Oppgave 4](./4_Moduler.ipynb) - Moduler. Bruk løsningen din fra oppgave 4, og ferdigstill *funksjonen* `calculate_accel()` som regner ut skiløperens akselerasjon basert på inngangsvariabler `mass` for masse $m$, `angle` for helningsvinkel $\\alpha$ og `friction` for friksjonstall $\\mu$. "
   ]
  },
  {
   "cell_type": "code",
   "execution_count": null,
   "id": "9bc67bf7-bc07-4ef6-8c95-0cb3b355885c",
   "metadata": {
    "deletable": false,
    "nbgrader": {
     "cell_type": "code",
     "checksum": "0554c4bc58d72abf7ef00980b909c197",
     "grade": false,
     "grade_id": "cell-61a3eb98c513b48f",
     "locked": false,
     "schema_version": 3,
     "solution": true,
     "task": false
    },
    "tags": []
   },
   "outputs": [],
   "source": [
    "import numpy as np\n",
    "\n",
    "def calculate_accel(mass, angle, friction):\n",
    "    # SKRIV DIN KODE HER:\n",
    "    return accel\n",
    "\n",
    "# Skriv funksjonskall for å teste funksjonen her:\n"
   ]
  }
 ],
 "metadata": {
  "kernelspec": {
   "display_name": "Python 3",
   "language": "python",
   "name": "python3"
  },
  "language_info": {
   "codemirror_mode": {
    "name": "ipython",
    "version": 3
   },
   "file_extension": ".py",
   "mimetype": "text/x-python",
   "name": "python",
   "nbconvert_exporter": "python",
   "pygments_lexer": "ipython3",
   "version": "3.13.3"
  }
 },
 "nbformat": 4,
 "nbformat_minor": 5
}
