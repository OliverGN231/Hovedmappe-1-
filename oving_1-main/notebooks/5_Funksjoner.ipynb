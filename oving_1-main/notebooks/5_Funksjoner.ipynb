{
 "cells": [
  {
   "cell_type": "markdown",
   "id": "e80a077b-99c5-49d9-9b16-3405846714b3",
   "metadata": {},
   "source": [
    "# Funksjoner\n",
    "\n",
    "I tillegg til likheter mellom matematikk og Python med hensyn til aritmetiske uttrykk, finnes det likheter for funksjoner. I matematikken mapper funksjoner en input $X$ til en output $Y$. Vi kan for eksempel ha funksjonen $f(x) = 2x + 3$, som mapper input-verdien $x$ til en ny verdi $y = 2x + 3$. Setter man inn en verdi i denne funksjonen, f.eks $2$, vil man få outputen $2 \\cdot 2 + 3 = 4 + 3 = 7$. \n",
    "\n",
    "<img src=\"../resources/images/funksjons_forklaring.png\" width=\"30%\" align=\"right\" />\n",
    "\n",
    "Det samme gjelder for funksjoner i Python. Forskjellen mellom funksjoner i Python og funksjoner i matematikken er at  i Python trenger ikke nødvendigvis funksjonene å være matematiske. I tillegg er det en forskjell i opprettelsen av funksjonene. Denne øvingen vil gi en smakebit på bruk av funksjoner i Python, resten kommer i en senere øving. \n",
    "\n",
    "I denne øvingen skal du lære å skrive matetmatiske funksjoner, som over, i Python. En funksjon i Python defineres med `def`-nøkkelordet. Deretter kommer et funksjonsnavn, for eksempel `f`. Funksjonsnavnet kan være hva som helst, så lenge det følger de vanlige reglene for variabelnavn. Funksjonsdefinisjonen avsluttes med parenteser `()` og kolon `:`. Parentesene kan være tomme, eller de kan inneholde _parametere_ som i matematikken. Et parameter i matematikken er gjerne `x`, og er et tall. I Python kan parameterene være av hvilken som helst variabeltype, og er en helt vanlig variabel.\n",
    "\n",
    "Etter definisjonen av funksjonen kommer funksjonskroppen. Her skiller funksjonene i Python seg mest ut fra matematiske funksjoner. Matematiske funksjoner git deg kun et output. De gjør kun én ting. Funksjoner i Python kan være lengre og gjøre flere ting før den gir output. Dette kan f.eks være å sjekke at parameteren som gis med i funksjonen er korrekt, eller mellomlagre verdier og gjøre flere utregninger. \n",
    "\n",
    "Når en funksjon i Python skal gi output brukes `return`-nøkkelordet. Her sier man \"returner denne verdien\". Den returnerte verdien kan være av hvilken som helst variabeltype, i motsetning til matematikken som gir et tall som output.\n",
    "\n",
    "Eksempel på den matematiske funksjonen $f(x) = 2x + 3$ i Python:"
   ]
  },
  {
   "cell_type": "code",
   "execution_count": null,
   "id": "2f2d6c79-770f-4507-a400-5338785765a4",
   "metadata": {},
   "outputs": [
    {
     "name": "stdout",
     "output_type": "stream",
     "text": [
      "13\n"
     ]
    }
   ],
   "source": [
    "def f(x): # Definerer funksjonen\n",
    "    y = 2 * x + 3 # Regner ut utgangsverdien y, som er lik x ganget med og pluss 3\n",
    "    return y # Returnerer utgangsverdien y\n",
    "\n"
   ]
  },
  {
   "cell_type": "markdown",
   "id": "dc46208d-3abc-4aad-bb8c-e5f54a617358",
   "metadata": {},
   "source": [
    "Når en funksjon står for seg selv, som funksjonen over, får vi ingen output når vi kjører koden. Funksjonen er kun _definert_, akkurat som når man oppretter seg en variabel. På samme måte som man ikke kan bruke variabler før de er definert, kan man ikke bruke funksjoner før de er definert:\n",
    "\n",
    "```python\n",
    "# Her kan man ikke bruke a eller min_funksjon\n",
    "\n",
    "a = 1.3 # Assosierer navnet a med et flyttallsobjekt i minnet\n",
    "\n",
    "# Her kan man bruke a, men ikke min_funksjon\n",
    "\n",
    "def min_funksjon(): # Assosierer navnet min_funksjon med et funksjonsobjekt i minnet\n",
    "\n",
    "# Her kan man bruke begge\n",
    "```\n",
    "\n",
    "\n",
    "Prøv å kjøre kodeblokken over og se at du ikke får noe output.\n",
    "\n",
    "Når en funksjon er defniert, kan vi _kalle_ på den. Dette kan man gjøre ved å skrive funksjonsnavnet, etterfulgt av parenteser og eventuelle _argumenter_ i parentesene. Kodeblokken under kaller på funksjonen `f(x)`, med argumentet $2$. Prøv å kjøre den!"
   ]
  },
  {
   "cell_type": "code",
   "execution_count": 7,
   "id": "59c1d63d-59ec-424a-a9d8-71c1a86a9e43",
   "metadata": {},
   "outputs": [
    {
     "data": {
      "text/plain": [
       "7"
      ]
     },
     "execution_count": 7,
     "metadata": {},
     "output_type": "execute_result"
    }
   ],
   "source": [
    "f(2)"
   ]
  },
  {
   "cell_type": "markdown",
   "id": "e2f89da9",
   "metadata": {},
   "source": [
    "TIPS: Når du definerer funksjoner, så blir \"innrykk\" (indentation)) svært viktig i Python. Innrykk brukes for å gruppere kode som hører sammen. En funksjon betår av en eller flere linjer som utfører en bestemt oppgave. Disse linjene grupperes med \"innrykk\". En vanlig feil for nybegynnere er derfor bruk av feil innrykk. Vær derfor spesielt obs på dette! [Les mer om dette her](https://peps.python.org/pep-0008/#indentation)"
   ]
  },
  {
   "cell_type": "markdown",
   "id": "2a8b8be1-b974-4f03-913e-797450a5ba66",
   "metadata": {},
   "source": [
    "### a) Skrive funksjonsuttrykk riktig i Python\n",
    "\n",
    "**Skriv følgende matematiske funksjoner i Python:**\n",
    "\n",
    "$f(x) = 2x + 1$\n",
    "\n",
    "$g(x) = \\frac{-4x + 2}{5x + 3}$\n",
    "\n",
    "$h(x) = x^2 + 2x + 1$\n",
    "\n",
    "$i(x) = \\sqrt{x}$\n",
    "\n",
    "$j(x) = \\sin{x} + \\cos{x}$\n",
    "\n",
    "**_Skriv koden din i kodeblokken under_**\n",
    "\n",
    "**Hint:** Bruk av **numpy** biblioteket kan gjøre noen av funksjonene lettere "
   ]
  },
  {
   "cell_type": "code",
   "execution_count": 10,
   "id": "0f327665-057f-4c55-be3e-045beadfbd9e",
   "metadata": {
    "deletable": false,
    "nbgrader": {
     "cell_type": "code",
     "checksum": "a63481e5a46733e80924bafd236ef7f9",
     "grade": false,
     "grade_id": "cell-717331bd390185a7",
     "locked": false,
     "schema_version": 3,
     "solution": true,
     "task": false
    },
    "tags": []
   },
   "outputs": [],
   "source": [
    "import numpy as np # Importerer numpy-biblioteket som np for å gjøre det lettere\n",
    "#-------------------------------------\n",
    "def f(x):\n",
    "    return 2*x+1\n",
    "#-------------------------------------\n",
    "\n",
    "def g(x):\n",
    "    y= (-4*x+2)/(5*x+3)\n",
    "    return y\n",
    "\n",
    "def h(x):\n",
    "    y = x**2 + 2*x + 1\n",
    "    return y\n",
    "\n",
    "def i(x):\n",
    "    y = np.sqrt(x)      #sqrt er kvadratroten funksjon fra numpy\n",
    "    return y\n",
    "\n",
    "def j(x):\n",
    "    y = np.sin(x)+np.cos(x)         #sin og cos er funksjoner fra numpy\n",
    "    return y\n",
    "\n"
   ]
  },
  {
   "cell_type": "markdown",
   "id": "e32ca905-dc9a-4ccb-a72e-ea8c72830a5b",
   "metadata": {},
   "source": [
    "## Bruk av funksjonskall\n",
    "\n",
    "Forrige oppgave lagde vi en rekke funksjonsbeskrivelser, men vi har enda ikke testet de for å se om de fungerer slik de skal. For å kontrollere at funksjonene våre gir riktig output-verdi ($y=f(x)$) for en bestemt input-verdi $x$, kan vi bruke et funksonskall `f(x)` og kontrollregne returverdien den gir oss. Når man programmerer, er det ofte en god idé å bruke slike kontroll-funksjonskall underveis. Da kan man være rimelig trygg på at funksjonene gjør jobben sin korrekt når de skal tas i bruk i et mer komplekst python-program.\n",
    "\n",
    "### b) Validering av funksjonsbeskrivelser\n",
    "Nedenfor ser du en oversikt over kjente returverdier for hver av de matematiske funksjonene du implementerte i deloppgave **a)**. \n",
    "$$\\begin{align}\n",
    "f(10) &= 21 \\\\\n",
    "g(17) &= -0.75 \\\\\n",
    "h(3) &= 16 \\\\\n",
    "i(16) &= 4 \\\\\n",
    "j(0) &= 1 \n",
    "\\end{align}$$\n",
    "Pruk python til å skrive ut returverdien til hver av funksjonene i deloppgave **a)** gitt input-verdiene som er listet ovenfor. Dersom du har skrevet funksjonene dine riktig, skal de utskrevne verdiene være lik de listede funksjonsverdiene.\n",
    "\n",
    "Nedenfor er et eksempel på kode som skriver ut returverdi for et bestemt input $x = 42$:\n",
    "```Python\n",
    "print(f\"{f(42) = }\")\n",
    "```\n",
    "Utskrift:<br>\n",
    "`>> f(42) = 85`\n",
    "\n",
    "*PS: å legge til `=` bak koden `f(42)` i kodeeksempelet over gjør at vi slipper å eksplisitt skrive `f\"f(42) = {f(42)}\"` for å få den forklarende teksten `f(42) = ` i utskriften.*"
   ]
  },
  {
   "cell_type": "code",
   "execution_count": null,
   "id": "24dd740b-0e09-4a2d-9479-573dc6016038",
   "metadata": {
    "deletable": false,
    "nbgrader": {
     "cell_type": "code",
     "checksum": "7724b00432dae898cf13ac7df07ab3cb",
     "grade": false,
     "grade_id": "cell-45713ffe15c87c78",
     "locked": false,
     "schema_version": 3,
     "solution": true,
     "task": false
    }
   },
   "outputs": [
    {
     "name": "stdout",
     "output_type": "stream",
     "text": [
      "f(10) = 21\n",
      "g(17) = -0.75\n",
      "h(3) = 16\n",
      "i(16) = 4.0\n",
      "j(0) = 1.0\n"
     ]
    }
   ],
   "source": [
    "# SKRIV DIN KODE HER:\n",
    "np.set_printoptions(legacy='1.25') # Reverserer numpy 2.0 endringer for å unngå np.float64 foran svaret: https://discuss.python.org/t/numpy-odd-behavior/65074 ## bakdelen ved å gjøre legacy='1.25' er at jeg mister den nyere versjonen for resten av koden. I denne sammenhengen går det fint\n",
    "                                  \n",
    "print(f\"{f(10) = }\") # Her bruker jeg (\"{ = }\") for å få = etter resultatet\n",
    "\n",
    "print(f\"{g(17) = }\")\n",
    "\n",
    "print(f\"{h(3) = }\")\n",
    "\n",
    "print(f\"{i(16) = }\") # Ettersom numpy 2.0 har endret på representasjonen av scalarer\n",
    "\n",
    "print(f\"{j(0) = }\")\n"
   ]
  },
  {
   "cell_type": "markdown",
   "id": "25aca721-b652-4013-a2d4-30858f01cccb",
   "metadata": {},
   "source": [
    "## Funksjoner i større beregninger\n",
    "\n",
    "Videre kan det i mange situasjoner være aktuelt å dele opp en kompleks beregning inn i flere funksjonskall, der returverdien fra én funksjon bestemmer hva som går inn i neste funksjon. Dette er spesielt aktuelt dersom det er en regneoperasjon man gjør mange ganger. For eksempel kunne vi laget en egen funksjon for å konvertere en vinkel fra grader til radianer, slik at man slipper å multiplisere en vinkel med $\\frac{\\pi}{180}$ mange forskjellige steder i programmet:\n",
    "```Python\n",
    "import numpy as np\n",
    "def grader_til_radianer(grader):\n",
    "    radianer = grader/180*np.pi\n",
    "    return radianer\n",
    "\n",
    "vinkel = 15  # Grader\n",
    "vinkel_rad = grader_til_radianer(vinkel)\n",
    "cos_vinkel = np.cos(vinkel_rad)\n",
    "\n",
    "ny_vinkel = 35  # Grader\n",
    "ny_vinkel_rad = grader_til_radianer(ny_vinkel)\n",
    "cos_ny_vinkel = np.cos(ny_vinkel_rad)\n",
    "```\n",
    "Så lenge vi vet at funksjonen `grader_til_radianer` fungerer slik den skal, kan vi ta den i bruk hver gang vi skal konvertere en vinkel fra grader til radianer. Slik unngår man slurvefeil som å skrive `grader/18*np.pi` hvis man er utålmoding når man utfører denne konverteringen for 5. gang i programmet.\n",
    "\n",
    "Legg også merke til at vi bruker litt lengre og mer beskrivende navn på både funksjonen og variablene i eksempelet ovenfor. Selv om funksjoner i Python ligner veldig på funksjoner i matematikk, er det ofte en fordel å gi de navn beskriver hva funksjonen gjør.\n",
    "\n",
    "\n",
    "### c) Beregninger med funksjoner\n",
    "\n",
    "Gitt verdiene $a = 7$ og $b = 6$. Skriv et python-program som utfører følgende beregninger basert på funksjonene i deloppgave **a)**.\n",
    "$$\\begin{align}\n",
    "x &= f(a) + h(b) \\\\\n",
    "y &= i(x)\n",
    "\\end{align}$$\n",
    "\n",
    "Programmet skal skrive ut en oversikt av regneoperasjonene, samt verdien til både $x$ og $y$. Eksempel på utskrift:<br>\n",
    "`f(7) + h(6) = 64`<br>\n",
    "`i(64) = 8.0`\n",
    "\n",
    "* *NB! husk at du må kjøre cellen i deloppgave **a)** uten feilmeldinger for at Python skal kunne vite at funksjonene `f`, `g` osv. eksisterer. Er du i tvil kan du trykke 'restart and run all cells'-knappen $\\blacktriangleright\\blacktriangleright$.*\n",
    "<!--I denne oppgaven skal du lagre verdien til f(7) + h(6) i variabelen \"min_utregning\"\n",
    "\n",
    "Deretter skal du bruke \"min_utregning\" som argument i funksjonen *i*, dette svaret skal du lagre i variabelen \"ferdig_utregning\".\n",
    "\n",
    "Så kan du printe resultatene dine med print-funksjonen. Dette kan for eksempel se slik ut ```print(f\"{min_utregning = }. {ferdig_utregning = }.\")```\n",
    "\n",
    "Har du gjort rett vil du få svaret ```min_utregning = 64. ferdig_utregning = 8.0.```\n",
    "-->"
   ]
  },
  {
   "cell_type": "code",
   "execution_count": 29,
   "id": "eb0dc740-9808-4bb7-8c4d-2a342acd80df",
   "metadata": {
    "deletable": false,
    "nbgrader": {
     "cell_type": "code",
     "checksum": "278bb5169278a8f26227cddc8b1c2d44",
     "grade": false,
     "grade_id": "cell-3aa9db8352fe4aee",
     "locked": false,
     "schema_version": 3,
     "solution": true,
     "task": false
    }
   },
   "outputs": [
    {
     "name": "stdout",
     "output_type": "stream",
     "text": [
      "f(a)+h(b) =64\n",
      "i(64) = 8.0\n"
     ]
    }
   ],
   "source": [
    "a = 7\n",
    "b = 6\n",
    "# SKRIV DIN KODE HER:\n",
    "\n",
    "print(f\"{f(a)+h(b) =}\") #Bruker konstantene a og b i funksjonene f og h, og skriver ut resultatet, velger å printe med a og b for å se hvilke konstanter som er brukt i funksjonene\n",
    "\n",
    "print(f\"{i(64) = }\") # kvadratroten av 64"
   ]
  },
  {
   "cell_type": "markdown",
   "id": "3c493a9c-5514-443d-8c2e-5eafd0c5522d",
   "metadata": {},
   "source": [
    "## Riktig bruk av funksjonsargument\n",
    "\n",
    "Det kanskje viktigste aspektet med funksjoner i Python er at de kan bruke input-argumentene til å gjøre beregninger som varierer avhengig av hva input-argumentet er. Det er derfor veldig viktig at man passer på å i størst mulig grad skrive funksjonen på en slik måte at den baserer utregningene på tallverdier i input-argumentet. \n",
    "\n",
    "#### Eksempel:\n",
    "```Python\n",
    "# Funksjon som kun gjør én ting (dårlig praksis)\n",
    "def ti_grader_til_radianer():\n",
    "    grader = 10\n",
    "    radianer = grader/180*np.pi\n",
    "    return radianer\n",
    "\n",
    "# Funksjon som gir ulike resultat avhengig av input\n",
    "def grader_til_radianer(grader):\n",
    "    radianer = grader/180*np.pi\n",
    "    return radianer\n",
    "```\n",
    "\n",
    "### d) Finn feilen\n",
    "\n",
    "Nedenfor ser du en funksjon som ikke funker. Dette ser vi når vi prøver å teste funksjonen i kodecellen under, og funksjonen forteller oss at en kule med radius $r=5\\text{cm}$ og en kule med radius $r = 10\\text{cm}$ har samme volum. Rett opp i feilen slik at koden funker som den skal."
   ]
  },
  {
   "cell_type": "code",
   "execution_count": null,
   "id": "885ef444-8868-4d63-ae2a-062289ec5c21",
   "metadata": {},
   "outputs": [],
   "source": [
    "def kuleVolum(radius):\n",
    "    volum = 4/3*np.pi*radius**3             #Trengte kun å fjerne radius = 10 for å gjøre den generell/til en funksjon. Ettersom den var fastsatt som radius = 10 tidligere.\n",
    "    return volum #cm^3"
   ]
  },
  {
   "cell_type": "code",
   "execution_count": 33,
   "id": "01dabc17-2ba5-4050-83b2-61d63a455cdc",
   "metadata": {
    "deletable": false,
    "distributed_autograding": {
     "test_code": "IyBUbyBkbzogcmVtb3ZlICJpbml0IHRlc3RzIiBmcm9tIHRlc3Qgc2V0LiAKCmZyb20gcmFuZG9tIGltcG9ydCBzYW1wbGUKZnJvbSBhdXRvZmVlZGJhY2sgaW1wb3J0IEZ1bmN0aW9uVGVzdHMKaW1wb3J0IG51bXB5IGFzIG5wCgprdWxlVm9sdW1fc29sdXRpb24gPSBsYW1iZGEgcjogNC8zKm5wLnBpKnIqKjMKCmdyYWRpbmdfcmVzdWx0cyA9IEZ1bmN0aW9uVGVzdHMoa3VsZVZvbHVtX3NvbHV0aW9uKQoKdHJ5OgogICAgZ3JhZGluZ19yZXN1bHRzLmFkZF90ZXN0X2Z1bmMoa3VsZVZvbHVtKQpleGNlcHQgRXhjZXB0aW9uIGFzIGU6CiAgICBncmFkaW5nX3Jlc3VsdHMubG9nLmFwcGVuZCgiQ291bGQgbm90IHJ1biB0ZXN0cywgIitlLmFyZ3NbMF0pCmVsc2U6CiAgICByX3ZhbHMgPSBzYW1wbGUobGlzdChyYW5nZSgxLCAyMSkpLCA1KQogICAgZm9yIHIgaW4gcl92YWxzOgogICAgICAgIGdyYWRpbmdfcmVzdWx0cy50ZXN0X3JldHVybl92YWx1ZShyKQpyb3VuZChncmFkaW5nX3Jlc3VsdHMuZ2V0X3Jlc3VsdHMoKSoyLCAyKQ=="
    },
    "editable": false,
    "nbgrader": {
     "cell_type": "code",
     "checksum": "e01047bf90661b38da4ee43225b5cb3d",
     "grade": true,
     "grade_id": "cell-212e1e40252f5e96",
     "locked": true,
     "points": 2,
     "schema_version": 3,
     "solution": false,
     "task": false
    }
   },
   "outputs": [
    {
     "name": "stdout",
     "output_type": "stream",
     "text": [
      "Volumet til en kule med 10 cm radius er 4188.79 cm3\n",
      "Volumet til en kule med 5 cm radius er 523.60 cm3\n"
     ]
    }
   ],
   "source": [
    "# Bruk denne cellen til å teste funksjonene dine!\n",
    "print(f\"Volumet til en kule med 10 cm radius er {kuleVolum(10):.2f} cm3\")\n",
    "print(f\"Volumet til en kule med 5 cm radius er {kuleVolum(5):.2f} cm3\")"
   ]
  }
 ],
 "metadata": {
  "kernelspec": {
   "display_name": "Python 3",
   "language": "python",
   "name": "python3"
  },
  "language_info": {
   "codemirror_mode": {
    "name": "ipython",
    "version": 3
   },
   "file_extension": ".py",
   "mimetype": "text/x-python",
   "name": "python",
   "nbconvert_exporter": "python",
   "pygments_lexer": "ipython3",
   "version": "3.13.3"
  },
  "scenes_data": {
   "active_scene": "Default Scene",
   "init_scene": "",
   "scenes": [
    "Default Scene"
   ]
  }
 },
 "nbformat": 4,
 "nbformat_minor": 5
}
