{
 "cells": [
  {
   "cell_type": "markdown",
   "id": "b5b4d0d0-e4ba-4838-aee8-4d24c65770e1",
   "metadata": {},
   "source": [
    "# Øving 1\n",
    "\n",
    "Hei og velkommen til første øving i Programmeringsdelen av emnet INGT1002 - Programmering, numerikk og sikkerhet. I denne øvingen vil vi gå gjennom de grunnleggende temaene som kreves for å kunne begynne å bruke Python til å løse matematiske problemer. Nedenfor ser du en oversikt over læringsmål for øvingen, samt informasjon om de forskjellige oppgavene og hva som kreves for å få øvingen godkjent.\n",
    "\n",
    "## Læringsmål\n",
    "\n",
    "* Bli kjent med Jupyter Lab som programmeringsmiljø.\n",
    "* Forstå hvorfor og hvordan vi bruker variabler i programmering, og at variabeltilordning ikke er det samme som matematisk likhet\n",
    "* Kunne bruke vanlige regneoperatorer i Python: addisjon + , subtraksjon – , multiplikasjon * , divisjon / og potens **\n",
    "* Forstå forskjellen på de fire elementære datatypene: heltall (int), flyttall (float) og tekststrenger (str)\n",
    "* Skjønne hvordan regneoperatorene virker for de ulike datatypene\n",
    "* Forstå at kode må være uten feil for å kjøre, og kunne rette enkle syntaksfeil\n",
    "* Betingelesr og logiske uttrykk\n",
    "* If-setninger, hvorfor og hvordan\n",
    "\n",
    "## Krav til godkjenning\n",
    "\n",
    "- Ved retting kan denne øvingen gi inntil 100 poeng. Kravet for godkjenning av øvingsoppgaven er 60 poeng eller mer.\n",
    "\n",
    "Oppgave| Tittel | Kommentar | Poeng\n",
    "--- |--- | --- | ---\n",
    "1|[Intro til Jupyter](./1_Intro_til_jupyter.ipynb)|Grunnleggende om jupyter notebooks | 10\n",
    "2|[Variabler](./2_Variabler.ipynb)|Bruk av variabler i utregninger | 10\n",
    "3|[Kalkulasjoner](./3_Kalkulasjoner.ipynb)|Bruk av grunnleggende matematiske operasjoner| 10\n",
    "4|[Moduler](./4_Moduler.ipynb)|Importering og bruk av moduler, matematiske funksjoner| 10\n",
    "5|[Funksjoner](5_Funksjoner.ipynb)|Hvordan skrive egne funksjoner|  10\n",
    "6|[Mer om funksjoner](./6_Funksjoner_forts.ipynb)|Funksjoner med flere variabler, globale variabler|10\n",
    "7|[Ulike typer if-setninger](./7_ulike_typer_if_setninger.ipynb) | If, else og elif | 10\n",
    "8|[Logiske operatorer og logiske uttrykk](./8_Logiske_operatorer_og_logiske_uttrykk.ipynb) | Mer om betingelser samt bruk av **and**, **or** og **not**| 10"
   ]
  }
 ],
 "metadata": {
  "kernelspec": {
   "display_name": "Python 3 (ipykernel)",
   "language": "python",
   "name": "python3"
  },
  "language_info": {
   "codemirror_mode": {
    "name": "ipython",
    "version": 3
   },
   "file_extension": ".py",
   "mimetype": "text/x-python",
   "name": "python",
   "nbconvert_exporter": "python",
   "pygments_lexer": "ipython3",
   "version": "3.11.6"
  },
  "scenes_data": {
   "active_scene": "Default Scene",
   "init_scene": "",
   "scenes": [
    "Default Scene"
   ]
  }
 },
 "nbformat": 4,
 "nbformat_minor": 5
}
